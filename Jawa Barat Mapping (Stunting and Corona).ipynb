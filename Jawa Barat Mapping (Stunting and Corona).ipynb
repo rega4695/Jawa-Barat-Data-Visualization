{
 "cells": [
  {
   "cell_type": "code",
   "execution_count": 5,
   "metadata": {},
   "outputs": [],
   "source": [
    "import numpy as np\n",
    "import pandas as pd\n",
    "import matplotlib.pyplot as plt\n",
    "import seaborn as sns\n",
    "import folium"
   ]
  },
  {
   "cell_type": "code",
   "execution_count": 4,
   "metadata": {
    "scrolled": true
   },
   "outputs": [
    {
     "name": "stdout",
     "output_type": "stream",
     "text": [
      "Collecting folium\n",
      "  Downloading https://files.pythonhosted.org/packages/fd/a0/ccb3094026649cda4acd55bf2c3822bb8c277eb11446d13d384e5be35257/folium-0.10.1-py2.py3-none-any.whl (91kB)\n",
      "Collecting branca>=0.3.0\n",
      "  Downloading https://files.pythonhosted.org/packages/81/6d/31c83485189a2521a75b4130f1fee5364f772a0375f81afff619004e5237/branca-0.4.0-py3-none-any.whl\n",
      "Requirement already satisfied: numpy in c:\\users\\rega4695\\miniconda3\\envs\\jcopml_online\\lib\\site-packages (from folium) (1.18.1)\n",
      "Collecting requests\n",
      "  Downloading https://files.pythonhosted.org/packages/1a/70/1935c770cb3be6e3a8b78ced23d7e0f3b187f5cbfab4749523ed65d7c9b1/requests-2.23.0-py2.py3-none-any.whl (58kB)\n",
      "Requirement already satisfied: jinja2>=2.9 in c:\\users\\rega4695\\miniconda3\\envs\\jcopml_online\\lib\\site-packages (from folium) (2.11.1)\n",
      "Requirement already satisfied: six in c:\\users\\rega4695\\miniconda3\\envs\\jcopml_online\\lib\\site-packages (from branca>=0.3.0->folium) (1.14.0)\n",
      "Collecting idna<3,>=2.5\n",
      "  Downloading https://files.pythonhosted.org/packages/89/e3/afebe61c546d18fb1709a61bee788254b40e736cff7271c7de5de2dc4128/idna-2.9-py2.py3-none-any.whl (58kB)\n",
      "Collecting urllib3!=1.25.0,!=1.25.1,<1.26,>=1.21.1\n",
      "  Downloading https://files.pythonhosted.org/packages/e1/e5/df302e8017440f111c11cc41a6b432838672f5a70aa29227bf58149dc72f/urllib3-1.25.9-py2.py3-none-any.whl (126kB)\n",
      "Requirement already satisfied: certifi>=2017.4.17 in c:\\users\\rega4695\\miniconda3\\envs\\jcopml_online\\lib\\site-packages (from requests->folium) (2020.4.5.1)\n",
      "Collecting chardet<4,>=3.0.2\n",
      "  Downloading https://files.pythonhosted.org/packages/bc/a9/01ffebfb562e4274b6487b4bb1ddec7ca55ec7510b22e4c51f14098443b8/chardet-3.0.4-py2.py3-none-any.whl (133kB)\n",
      "Requirement already satisfied: MarkupSafe>=0.23 in c:\\users\\rega4695\\miniconda3\\envs\\jcopml_online\\lib\\site-packages (from jinja2>=2.9->folium) (1.1.1)\n",
      "Installing collected packages: branca, idna, urllib3, chardet, requests, folium\n",
      "Successfully installed branca-0.4.0 chardet-3.0.4 folium-0.10.1 idna-2.9 requests-2.23.0 urllib3-1.25.9\n"
     ]
    }
   ],
   "source": [
    "!pip install folium"
   ]
  },
  {
   "cell_type": "code",
   "execution_count": null,
   "metadata": {},
   "outputs": [],
   "source": [
    "pd.read_csv()"
   ]
  },
  {
   "cell_type": "code",
   "execution_count": 6,
   "metadata": {},
   "outputs": [
    {
     "ename": "NameError",
     "evalue": "name 'df2015' is not defined",
     "output_type": "error",
     "traceback": [
      "\u001b[1;31m---------------------------------------------------------------------------\u001b[0m",
      "\u001b[1;31mNameError\u001b[0m                                 Traceback (most recent call last)",
      "\u001b[1;32m<ipython-input-6-b2a5c1f689d4>\u001b[0m in \u001b[0;36m<module>\u001b[1;34m\u001b[0m\n\u001b[0;32m      5\u001b[0m     \u001b[0mgeo_data\u001b[0m\u001b[1;33m=\u001b[0m\u001b[1;34m'kota_kabupaten.geojson'\u001b[0m\u001b[1;33m,\u001b[0m\u001b[1;33m\u001b[0m\u001b[1;33m\u001b[0m\u001b[0m\n\u001b[0;32m      6\u001b[0m     \u001b[0mname\u001b[0m\u001b[1;33m=\u001b[0m\u001b[1;34m'choropleth'\u001b[0m\u001b[1;33m,\u001b[0m\u001b[1;33m\u001b[0m\u001b[1;33m\u001b[0m\u001b[0m\n\u001b[1;32m----> 7\u001b[1;33m     \u001b[0mdata\u001b[0m\u001b[1;33m=\u001b[0m\u001b[0mdf2015\u001b[0m\u001b[1;33m[\u001b[0m\u001b[1;33m[\u001b[0m\u001b[1;34m'kode_kota_kabupaten'\u001b[0m\u001b[1;33m,\u001b[0m \u001b[1;34m'prevalensi_stunting'\u001b[0m\u001b[1;33m]\u001b[0m\u001b[1;33m]\u001b[0m\u001b[1;33m,\u001b[0m\u001b[1;33m\u001b[0m\u001b[1;33m\u001b[0m\u001b[0m\n\u001b[0m\u001b[0;32m      8\u001b[0m     \u001b[0mcolumns\u001b[0m\u001b[1;33m=\u001b[0m\u001b[1;33m[\u001b[0m\u001b[1;34m'kode_kota_kabupaten'\u001b[0m\u001b[1;33m,\u001b[0m \u001b[1;34m'prevalensi_stunting'\u001b[0m\u001b[1;33m]\u001b[0m\u001b[1;33m,\u001b[0m\u001b[1;33m\u001b[0m\u001b[1;33m\u001b[0m\u001b[0m\n\u001b[0;32m      9\u001b[0m     \u001b[0mkey_on\u001b[0m\u001b[1;33m=\u001b[0m\u001b[1;34m'feature.properties.bps_kode'\u001b[0m\u001b[1;33m,\u001b[0m\u001b[1;33m\u001b[0m\u001b[1;33m\u001b[0m\u001b[0m\n",
      "\u001b[1;31mNameError\u001b[0m: name 'df2015' is not defined"
     ]
    }
   ],
   "source": [
    "\n",
    "m = folium.Map(location=[-0.789275, 113.9213257], zoom_start=4)\n",
    "\n",
    "choropleth = folium.Choropleth(\n",
    "    geo_data='kota_kabupaten.geojson',\n",
    "    name='choropleth',\n",
    "    data=df2015[['kode_kota_kabupaten', 'prevalensi_stunting']],\n",
    "    columns=['kode_kota_kabupaten', 'prevalensi_stunting'],\n",
    "    key_on='feature.properties.bps_kode',\n",
    "    fill_color='BuGn',\n",
    "    fill_opacity=0.7,\n",
    "    line_opacity=0.2,\n",
    "    legend_name='Stunting (%)'\n",
    ").add_to(m)\n",
    "\n",
    "choropleth.geojson.add_child(\n",
    "    folium.features.GeoJsonTooltip(['bps_kode', 'bps_nama'])\n",
    ")\n",
    "\n",
    "folium.LayerControl().add_to(m)\n",
    "\n",
    "m"
   ]
  },
  {
   "cell_type": "code",
   "execution_count": null,
   "metadata": {},
   "outputs": [],
   "source": []
  }
 ],
 "metadata": {
  "kernelspec": {
   "display_name": "Python [conda env:jcopml_online]",
   "language": "python",
   "name": "conda-env-jcopml_online-py"
  },
  "language_info": {
   "codemirror_mode": {
    "name": "ipython",
    "version": 3
   },
   "file_extension": ".py",
   "mimetype": "text/x-python",
   "name": "python",
   "nbconvert_exporter": "python",
   "pygments_lexer": "ipython3",
   "version": "3.7.6"
  }
 },
 "nbformat": 4,
 "nbformat_minor": 4
}
